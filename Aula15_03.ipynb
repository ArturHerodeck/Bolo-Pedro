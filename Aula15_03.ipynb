{
  "nbformat": 4,
  "nbformat_minor": 0,
  "metadata": {
    "colab": {
      "provenance": [],
      "authorship_tag": "ABX9TyOLl5sT4KJ/nPXNL2M2iWK9",
      "include_colab_link": true
    },
    "kernelspec": {
      "name": "python3",
      "display_name": "Python 3"
    },
    "language_info": {
      "name": "python"
    }
  },
  "cells": [
    {
      "cell_type": "markdown",
      "metadata": {
        "id": "view-in-github",
        "colab_type": "text"
      },
      "source": [
        "<a href=\"https://colab.research.google.com/github/ArturHerodeck/exe/blob/main/Aula15_03.ipynb\" target=\"_parent\"><img src=\"https://colab.research.google.com/assets/colab-badge.svg\" alt=\"Open In Colab\"/></a>"
      ]
    },
    {
      "cell_type": "code",
      "source": [
        "print(\"exercicio 1\")\n",
        "def mostrarParada():\n",
        "  parada_valida = False\n",
        "  while(parada_valida == False):\n",
        "    try:\n",
        "      parada = int(input(\"Informe a parada \"))\n",
        "      if(parada >= 0 and parada <= 15):\n",
        "        print(\"Voce chegou na parada\" , parada)\n",
        "        parada_valida = 'nao'\n",
        "      else:\n",
        "         print(\"Informe uma parada válida\")\n",
        "    except:\n",
        "      print(\"Informe a parada de 1 a 15\") \n",
        "mostrarParada()"
      ],
      "metadata": {
        "id": "UfHiqTmgxsK3",
        "colab": {
          "base_uri": "https://localhost:8080/"
        },
        "outputId": "6f5751d5-03ed-40ac-e304-2c61119f8fae"
      },
      "execution_count": 3,
      "outputs": [
        {
          "output_type": "stream",
          "name": "stdout",
          "text": [
            "exercicio 1\n",
            "Informe a parada de 1 a 15\n",
            "Informe a parada de 1 a 15\n",
            "Informe a parada 5\n",
            "Voce chegou na parada 5\n"
          ]
        }
      ]
    },
    {
      "cell_type": "code",
      "source": [
        "print(\"exercicio 2\")\n",
        "def par():\n",
        "  par = False\n",
        "  while (par == False):\n",
        "    try:\n",
        "      num = int(input('Digite um número par: '))\n",
        "      if(num % 2 == 0):\n",
        "        print('Perfeito! Você escolheu um nº válido ', num)\n",
        "        par = True\n",
        "      elif(num < 0):\n",
        "        print('Você digitou um número negativo')\n",
        "        num = int(input('Digite um número par: '))\n",
        "      else:\n",
        "        print(num, 'nº inválido, digite nº par')\n",
        "    except:\n",
        "      print('O nº digitidado tem que ser um nº par')\n",
        "\n",
        "par()"
      ],
      "metadata": {
        "id": "cUXW-Su6lCrM",
        "colab": {
          "base_uri": "https://localhost:8080/"
        },
        "outputId": "19fda8ce-268b-4390-8f97-851b517f5886"
      },
      "execution_count": 4,
      "outputs": [
        {
          "output_type": "stream",
          "name": "stdout",
          "text": [
            "exercicio 2\n",
            "Digite um número par: 8\n",
            "Perfeito! Você escolheu um nº válido  8\n"
          ]
        }
      ]
    },
    {
      "cell_type": "code",
      "source": [
        "print(\"exercicio 3\")\n",
        "def div2_3():\n",
        "  div = False\n",
        "  while(div == False):\n",
        "    try:\n",
        "      numero = int(input('Digite um nº para saber se ele é divisível por 2 ou 3: '))\n",
        "      if(numero % 2 == 0 and numero % 3 == 0):\n",
        "        print('Perfeito!', numero, 'é divisível por 2 e por 3.')\n",
        "        div = True\n",
        "      elif(numero % 3 == 0):\n",
        "        print('Nº informado é divisível por 3')\n",
        "        div = True\n",
        "      elif(numero % 2 == 0):\n",
        "        print('Nº' , numero, 'é divisível por 2')\n",
        "        div = True\n",
        "      else:\n",
        "        print('Esse nº não é divisível por 2 nem por 3')\n",
        "    except:\n",
        "      print('Digite um nº divisível por 2 ou 3')\n",
        "\n",
        "div2_3()"
      ],
      "metadata": {
        "colab": {
          "base_uri": "https://localhost:8080/"
        },
        "id": "diE4V5qUmL5Z",
        "outputId": "036a351a-695c-4b13-d958-e381bdd3a239"
      },
      "execution_count": 5,
      "outputs": [
        {
          "output_type": "stream",
          "name": "stdout",
          "text": [
            "exercicio 3\n",
            "Digite um nº para saber se ele é divisível por 2 ou 3: 7\n",
            "Esse nº não é divisível por 2 nem por 3\n",
            "Digite um nº para saber se ele é divisível por 2 ou 3: 9\n",
            "Nº informado é divisível por 3\n"
          ]
        }
      ]
    }
  ]
}