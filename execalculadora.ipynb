{
  "nbformat": 4,
  "nbformat_minor": 0,
  "metadata": {
    "colab": {
      "provenance": [],
      "authorship_tag": "ABX9TyMkhrUWn+K1YSvDloov95ZV",
      "include_colab_link": true
    },
    "kernelspec": {
      "name": "python3",
      "display_name": "Python 3"
    },
    "language_info": {
      "name": "python"
    }
  },
  "cells": [
    {
      "cell_type": "markdown",
      "metadata": {
        "id": "view-in-github",
        "colab_type": "text"
      },
      "source": [
        "<a href=\"https://colab.research.google.com/github/ArturHerodeck/exe/blob/main/execalculadora.ipynb\" target=\"_parent\"><img src=\"https://colab.research.google.com/assets/colab-badge.svg\" alt=\"Open In Colab\"/></a>"
      ]
    },
    {
      "cell_type": "code",
      "source": [
        "x = float(input(\"Informe o 1º número \"))\n",
        "y = float(input(\"Informe o 2º número \"))\n",
        "mat = str(input(\"informe a operação você deseja executar (+ , - , * , /) \" ))\n",
        "if mat == \"+\":\n",
        "  res = x + y\n",
        "  print(\"O resultado da soma é \" , res)\n",
        "elif mat == \"-\":\n",
        "  res = x - y\n",
        "  print(\"O resultado da subtração é \" , res)\n",
        "elif mat == \"*\":\n",
        "  res = x * y\n",
        "  print(f\"O resultado da multiplicação é \" , res)\n",
        "elif mat == \"/\":\n",
        "  res = x / y\n",
        "  print(\"O resultado da divisão é \" , res)\n",
        "else:\n",
        "  print(\"Selecione corretamente a operação\")\n",
        "  res = \"0\"\n",
        "  print(\"Resultado é igual a\" , res)\n",
        "\n",
        "\n"
      ],
      "metadata": {
        "id": "q0zmw8zsr1MG"
      },
      "execution_count": null,
      "outputs": []
    }
  ]
}