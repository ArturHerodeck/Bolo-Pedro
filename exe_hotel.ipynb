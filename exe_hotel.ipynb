{
  "nbformat": 4,
  "nbformat_minor": 0,
  "metadata": {
    "colab": {
      "provenance": [],
      "authorship_tag": "ABX9TyPciJgba09gFg3Uv27GQ6o/",
      "include_colab_link": true
    },
    "kernelspec": {
      "name": "python3",
      "display_name": "Python 3"
    },
    "language_info": {
      "name": "python"
    }
  },
  "cells": [
    {
      "cell_type": "markdown",
      "metadata": {
        "id": "view-in-github",
        "colab_type": "text"
      },
      "source": [
        "<a href=\"https://colab.research.google.com/github/ArturHerodeck/exe/blob/main/exe_hotel.ipynb\" target=\"_parent\"><img src=\"https://colab.research.google.com/assets/colab-badge.svg\" alt=\"Open In Colab\"/></a>"
      ]
    },
    {
      "cell_type": "code",
      "execution_count": 50,
      "metadata": {
        "colab": {
          "base_uri": "https://localhost:8080/"
        },
        "id": "HfZG9G2fU-uf",
        "outputId": "2a5a7e59-82f4-479c-8a0b-ebbe76dc8aae"
      },
      "outputs": [
        {
          "output_type": "stream",
          "name": "stdout",
          "text": [
            "Andar 20\n",
            "Andar 19\n",
            "Andar 18\n",
            "Andar 17\n",
            "Andar 16\n",
            "Andar 15\n",
            "Andar 14\n",
            "Andar 12\n",
            "Andar 11\n",
            "Andar 10\n",
            "Andar 9\n",
            "Andar 8\n",
            "Andar 7\n",
            "Andar 6\n",
            "Andar 5\n",
            "Andar 4\n",
            "Andar 3\n",
            "Andar 2\n",
            "Andar 1\n",
            "Térreo\n",
            "Garagem\n"
          ]
        }
      ],
      "source": [
        "numero = (21)\n",
        "for i in range (20 , 0 , -1):\n",
        "  numero = numero -1\n",
        "  if (numero == 13):\n",
        "    continue\n",
        "  print(\"Andar\" , numero)\n",
        "print (\"Térreo\")\n",
        "print (\"Garagem\")\n",
        "\n",
        "\n",
        "\n"
      ]
    }
  ]
}