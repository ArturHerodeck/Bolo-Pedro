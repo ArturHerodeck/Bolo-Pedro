{
  "nbformat": 4,
  "nbformat_minor": 0,
  "metadata": {
    "colab": {
      "provenance": [],
      "authorship_tag": "ABX9TyPDr5i/8zV3ooK0w8SSNJ9B",
      "include_colab_link": true
    },
    "kernelspec": {
      "name": "python3",
      "display_name": "Python 3"
    },
    "language_info": {
      "name": "python"
    }
  },
  "cells": [
    {
      "cell_type": "markdown",
      "metadata": {
        "id": "view-in-github",
        "colab_type": "text"
      },
      "source": [
        "<a href=\"https://colab.research.google.com/github/ArturHerodeck/exe/blob/main/execalc.ipynb\" target=\"_parent\"><img src=\"https://colab.research.google.com/assets/colab-badge.svg\" alt=\"Open In Colab\"/></a>"
      ]
    },
    {
      "cell_type": "code",
      "execution_count": null,
      "metadata": {
        "colab": {
          "base_uri": "https://localhost:8080/"
        },
        "id": "sK1EKQQJWRXb",
        "outputId": "7ac62271-bd14-4487-ca2e-91354ca8d091"
      },
      "outputs": [
        {
          "output_type": "stream",
          "name": "stdout",
          "text": [
            "Calculadora virtual\n",
            "Digite a operação desejada\n",
            "0. Sair\n",
            "1. Soma\n",
            "2. Subtração\n",
            "3. Multiplicação\n",
            "4. Divisão \n"
          ]
        }
      ],
      "source": [
        "def som():\n",
        "    n1 = float(input(\"Primeiro numero: \"))\n",
        "    n2 = float(input(\"Segundo numero: \"))\n",
        "    print(\"Total soma = \",n1+n2)\n",
        "\n",
        "def sub():\n",
        "    n1 = float(input(\"Primeiro numero: \"))\n",
        "    n2 = float(input(\"Segundo numero: \"))\n",
        "    print(\"Total subtração = \",n1-n2)\n",
        "\n",
        "def mult():\n",
        "    n1 = float(input(\"Primeiro numero: \"))\n",
        "    n2 = float(input(\"Segundo numero: \"))\n",
        "    print(\"Total multiplicação = \",n1*n2)\n",
        "\n",
        "def div():\n",
        "    n1 = float(input(\"Primeiro numero: \"))\n",
        "    n2 = float(input(\"Segundo numero: \"))\n",
        "    print(\"Total divisão: \",n1/n2)\n",
        "\n",
        "op = int\n",
        "\n",
        "print(\"Calculadora virtual\")\n",
        "print(\"Digite a operação desejada\")\n",
        "\n",
        "while op:\n",
        "    print(\"0. Sair\")\n",
        "    print(\"1. Soma\")\n",
        "    print(\"2. Subtração\")\n",
        "    print(\"3. Multiplicação\")\n",
        "    print(\"4. Divisão \")\n",
        "\n",
        "    op = int(input(\"Opção: \"))\n",
        "\n",
        "    if(op == 1):\n",
        "        som()\n",
        "    if(op == 2):\n",
        "        sub()\n",
        "    if(op == 3):\n",
        "        mult()\n",
        "    if(op == 4):\n",
        "        div() \n",
        "    if(op > 4):\n",
        "      print(\"Opção inválida, digite novamente\")\n",
        "    if(op == 0):\n",
        "      print(\"Obrigado por utilizar a calculadora virtual\")"
      ]
    }
  ]
}