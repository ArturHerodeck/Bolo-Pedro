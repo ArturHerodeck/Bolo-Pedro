{
  "nbformat": 4,
  "nbformat_minor": 0,
  "metadata": {
    "colab": {
      "provenance": [],
      "include_colab_link": true
    },
    "kernelspec": {
      "name": "python3",
      "display_name": "Python 3"
    },
    "language_info": {
      "name": "python"
    }
  },
  "cells": [
    {
      "cell_type": "markdown",
      "metadata": {
        "id": "view-in-github",
        "colab_type": "text"
      },
      "source": [
        "<a href=\"https://colab.research.google.com/github/ArturHerodeck/exe/blob/main/aula15_03_23.ipynb\" target=\"_parent\"><img src=\"https://colab.research.google.com/assets/colab-badge.svg\" alt=\"Open In Colab\"/></a>"
      ]
    },
    {
      "cell_type": "code",
      "execution_count": null,
      "metadata": {
        "colab": {
          "base_uri": "https://localhost:8080/"
        },
        "id": "s1wbKQvxdWuh",
        "outputId": "4906f955-87e4-49b6-babc-89a7dfbff785"
      },
      "outputs": [
        {
          "output_type": "stream",
          "name": "stdout",
          "text": [
            "Digite um numero de 0 a 100: 48525210\n",
            "Você precisa escolher um número de 0 a 100\n",
            "Digite um numero de 0 a 100: -4\n",
            "Você escolheu um número negativo.\n",
            "É necessário que você escolha um número entre 0 e 100\n",
            "Digite um numero de 0 a 100: 4\n",
            "Parabéns, você escolheu um número válido:  4\n"
          ]
        }
      ],
      "source": [
        "def mostrarNumero():\n",
        "  numero_valido = False\n",
        "\n",
        "  while(numero_valido == False):\n",
        "    try:\n",
        "      numero = int(input('Digite um numero de 0 a 100: '))\n",
        "\n",
        "      if(numero >= 0 and numero <= 100):\n",
        "        print('Parabéns, você escolheu um número válido: ', numero)\n",
        "        numero_valido = True\n",
        "      elif(numero < 0):\n",
        "        print('Você escolheu um número negativo.\\nÉ necessário que você escolha um número entre 0 e 100')\n",
        "      else:\n",
        "        print('Você precisa escolher um número de 0 a 100')\n",
        "    except:\n",
        "      print('Você precisa digitar um número inteiro')\n",
        "\n",
        "mostrarNumero()"
      ]
    },
    {
      "cell_type": "markdown",
      "source": [
        "# Função número Par"
      ],
      "metadata": {
        "id": "ycZjsnu8p9N6"
      }
    },
    {
      "cell_type": "code",
      "source": [
        "def par():\n",
        "  par = False\n",
        "  while (par == False):\n",
        "    try:\n",
        "      num = int(input('Digite um número par: '))\n",
        "      if(num % 2 == 0):\n",
        "        print('Muito bem! Você escolheu o número par ', num)\n",
        "        par = True\n",
        "      elif(num < 0):\n",
        "        print('Você digitou um número negativo')\n",
        "        num = int(input('Digite um número par: '))\n",
        "      else:\n",
        "        print(num, 'não é um número par.')\n",
        "    except:\n",
        "      print('É necessário que o número digitado seja par.')\n",
        "\n",
        "par()\n"
      ],
      "metadata": {
        "colab": {
          "base_uri": "https://localhost:8080/"
        },
        "id": "f8myY9RIqEW6",
        "outputId": "311649af-4eab-48e8-ad34-3629a2036c4e"
      },
      "execution_count": null,
      "outputs": [
        {
          "output_type": "stream",
          "name": "stdout",
          "text": [
            "Digite um número par: LPKJII7\n",
            "É necessário que o número digitado seja par.\n",
            "Digite um número par: 5421\n",
            "5421 não é um número par.\n",
            "Digite um número par: -4\n",
            "Muito bem! Você escolheu o número par  -4\n"
          ]
        }
      ]
    },
    {
      "cell_type": "markdown",
      "source": [
        "# Função número divisivel 2 e 3"
      ],
      "metadata": {
        "id": "Yc2h4bK2qFCK"
      }
    },
    {
      "cell_type": "code",
      "source": [
        "def div2_3():\n",
        "  div = False\n",
        "  while(div == False):\n",
        "    try:\n",
        "      numero = int(input('Digite um número para saber se ele é divisível por 2 ou 3: '))\n",
        "      if(numero % 2 == 0 and numero % 3 == 0):\n",
        "        print('Olha que legal!', numero, 'é divisível tanto por 2 quanto por 3.')\n",
        "        div = True\n",
        "      elif(numero % 3 == 0):\n",
        "        print('Você escolheu um número divisível por três')\n",
        "        div = True\n",
        "      elif(numero % 2 == 0):\n",
        "        print('Eba! O número', numero, 'é divisível por dois')\n",
        "        div = True\n",
        "      else:\n",
        "        print('Esse número não é divisível por 2 nem por 3')\n",
        "    except:\n",
        "      print('Digite um número divisível por 2 ou 3')\n",
        "\n",
        "div2_3()"
      ],
      "metadata": {
        "colab": {
          "base_uri": "https://localhost:8080/"
        },
        "id": "H6WRwmimvZa7",
        "outputId": "97474e7a-4b77-4fbd-adc2-6d286b336dc3"
      },
      "execution_count": null,
      "outputs": [
        {
          "output_type": "stream",
          "name": "stdout",
          "text": [
            "Digite um número para saber se ele é divisível por 2 ou 3: 457\n",
            "Esse número não é divisível por 2 nem por 3\n",
            "Digite um número para saber se ele é divisível por 2 ou 3: 6\n",
            "Olha que legal! 6 é divisível tanto por 2 quanto por 3.\n"
          ]
        }
      ]
    }
  ]
}