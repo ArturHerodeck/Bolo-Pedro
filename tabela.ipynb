{
  "nbformat": 4,
  "nbformat_minor": 0,
  "metadata": {
    "colab": {
      "provenance": [],
      "authorship_tag": "ABX9TyMZOcFgA5AFzYOYwmrixwOM",
      "include_colab_link": true
    },
    "kernelspec": {
      "name": "python3",
      "display_name": "Python 3"
    },
    "language_info": {
      "name": "python"
    }
  },
  "cells": [
    {
      "cell_type": "markdown",
      "metadata": {
        "id": "view-in-github",
        "colab_type": "text"
      },
      "source": [
        "<a href=\"https://colab.research.google.com/github/ArturHerodeck/Bolo-Pedro/blob/main/tabela.ipynb\" target=\"_parent\"><img src=\"https://colab.research.google.com/assets/colab-badge.svg\" alt=\"Open In Colab\"/></a>"
      ]
    },
    {
      "cell_type": "code",
      "execution_count": null,
      "metadata": {
        "id": "xDL-cU7ys0mv"
      },
      "outputs": [],
      "source": [
        "print (\"Tabela classificação de veículos\")\n",
        "roda = int(input(\"Digite a quantidade de rodas de seu veículo \"))\n",
        "carga = float(input(\"Digite a carga máxima do seu veículo \" \"Kg \" ))\n",
        "pessoas = int(input(\"Digite quantos lugares tem o seu veículo \"))\n",
        "if roda <= 3:\n",
        "  print (\"A categoria para esse veículo é A\")\n",
        "elif roda == 4 and (carga <= 3.500) and (pessoas <= 8):\n",
        "            print (\"A categoria para esse veículo é B\")\n",
        "elif roda >= 4 and (carga > 3.500 and carga <= 6.000):\n",
        "    print (\"A categoria para esse veículo é C\")\n",
        "elif roda >= 4 and (pessoas >= 8):\n",
        "  print (\"A categoria para esse veículo é D\")\n",
        "elif roda >= 4 and (carga > 6.000):\n",
        "  print (\"A categoria para esse veículo é E\") \n",
        "print (\"Obrigado!!!\")"
      ]
    },
    {
      "cell_type": "code",
      "source": [],
      "metadata": {
        "id": "GAjKmVErtCbn"
      },
      "execution_count": null,
      "outputs": []
    }
  ]
}