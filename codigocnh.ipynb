{
  "nbformat": 4,
  "nbformat_minor": 0,
  "metadata": {
    "colab": {
      "provenance": [],
      "authorship_tag": "ABX9TyOofiJt+MBGtZxmeHuM+TJE",
      "include_colab_link": true
    },
    "kernelspec": {
      "name": "python3",
      "display_name": "Python 3"
    },
    "language_info": {
      "name": "python"
    }
  },
  "cells": [
    {
      "cell_type": "markdown",
      "metadata": {
        "id": "view-in-github",
        "colab_type": "text"
      },
      "source": [
        "<a href=\"https://colab.research.google.com/github/ArturHerodeck/Bolo-Pedro/blob/main/codigocnh.ipynb\" target=\"_parent\"><img src=\"https://colab.research.google.com/assets/colab-badge.svg\" alt=\"Open In Colab\"/></a>"
      ]
    },
    {
      "cell_type": "code",
      "source": [
        "print (\"Tabela classificação de veículos\")\n",
        "roda = int(input(\"Digite a quantidade de rodas de seu veículo \"))\n",
        "carga = float(input(\"Digite a carga máxima do seu veículo \" \"Kg \" ))\n",
        "pessoas = int(input(\"Digite quantos lugares tem o seu veículo \"))\n",
        "if roda <= 3:\n",
        "  print (\"A categoria para esse veículo é A\")\n",
        "elif roda == 4 and (carga <= 3.500) and (pessoas <= 8):\n",
        "            print (\"A categoria para esse veículo é B\")\n",
        "elif roda >= 4 and (carga > 3.500 and carga <= 6.000):\n",
        "    print (\"A categoria para esse veículo é C\")\n",
        "elif roda >= 4 and (pessoas >= 8):\n",
        "  print (\"A categoria para esse veículo é D\")\n",
        "elif roda >= 4 and (carga > 6.000):\n",
        "  print (\"A categoria para esse veículo é E\") \n",
        "print (\"Obrigado!!!\")\n",
        "\n",
        "\n",
        "\n",
        "  \n"
      ],
      "metadata": {
        "colab": {
          "base_uri": "https://localhost:8080/"
        },
        "id": "O-0fPOAiUYwQ",
        "outputId": "3ae9bced-aeb9-4022-e342-5326a46accf9"
      },
      "execution_count": 154,
      "outputs": [
        {
          "output_type": "stream",
          "name": "stdout",
          "text": [
            "Tabela classificação de veículos\n",
            "Digite a quantidade de rodas de seu veículo 6\n",
            "Digite a carga máxima do seu veículo Kg 5.000\n",
            "Digite quantos lugares tem o seu veículo 6\n",
            "A categoria para esse veículo é C\n",
            "Obrigado!!!\n"
          ]
        }
      ]
    },
    {
      "cell_type": "code",
      "source": [],
      "metadata": {
        "id": "s6Qh8RYw5BFC"
      },
      "execution_count": 18,
      "outputs": []
    }
  ]
}