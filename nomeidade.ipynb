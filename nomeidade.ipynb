{
  "nbformat": 4,
  "nbformat_minor": 0,
  "metadata": {
    "colab": {
      "provenance": [],
      "authorship_tag": "ABX9TyPL70LdMwwZB2rwrDtgy9BU",
      "include_colab_link": true
    },
    "kernelspec": {
      "name": "python3",
      "display_name": "Python 3"
    },
    "language_info": {
      "name": "python"
    }
  },
  "cells": [
    {
      "cell_type": "markdown",
      "metadata": {
        "id": "view-in-github",
        "colab_type": "text"
      },
      "source": [
        "<a href=\"https://colab.research.google.com/github/ArturHerodeck/exe/blob/main/nomeidade.ipynb\" target=\"_parent\"><img src=\"https://colab.research.google.com/assets/colab-badge.svg\" alt=\"Open In Colab\"/></a>"
      ]
    },
    {
      "cell_type": "code",
      "source": [
        "ano = 2022\n",
        "print(\"Informe o nome completo\")\n",
        "n = str(input())\n",
        "print(\"Informe ano nascimento\")\n",
        "try:\n",
        "  an = int(input())\n",
        "  aa = ano - an\n",
        "  print(n , aa , \"anos\")\n",
        "except:\n",
        "  print(\"Opção inválida\")\n",
        "  print(\"Informe somente números\")\n"
      ],
      "metadata": {
        "colab": {
          "base_uri": "https://localhost:8080/"
        },
        "id": "clqOsR0oAoJi",
        "outputId": "de83fae3-6304-4c99-e60b-6c58e177427e"
      },
      "execution_count": 86,
      "outputs": [
        {
          "output_type": "stream",
          "name": "stdout",
          "text": [
            "Informe o nome completo\n",
            "jose\n",
            "Informe ano nascimento\n",
            "1965\n",
            "jose 57 anos\n"
          ]
        }
      ]
    },
    {
      "cell_type": "code",
      "source": [
        "\n"
      ],
      "metadata": {
        "id": "GS6YR2Lj_gq8"
      },
      "execution_count": null,
      "outputs": []
    }
  ]
}